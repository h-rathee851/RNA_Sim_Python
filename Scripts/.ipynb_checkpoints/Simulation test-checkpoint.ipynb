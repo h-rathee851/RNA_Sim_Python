{
 "cells": [
  {
   "cell_type": "code",
   "execution_count": 1,
   "metadata": {
    "collapsed": true
   },
   "outputs": [],
   "source": [
    "import cProfile,pstats"
   ]
  },
  {
   "cell_type": "code",
   "execution_count": 38,
   "metadata": {},
   "outputs": [],
   "source": [
    "import numpy as np\n",
    "# import pyximport; pyximport.install(setup_args={\n",
    "#                               \"include_dirs\":np.get_include()},\n",
    "#                   reload_support=True)\n",
    "\n",
    "from helper_methods_cy import *\n",
    "from simulation_up_cy import *\n",
    "\n",
    "from scipy.optimize import brentq\n",
    "import math\n",
    "# from simulation_up_cy import *"
   ]
  },
  {
   "cell_type": "code",
   "execution_count": 39,
   "metadata": {},
   "outputs": [],
   "source": [
    "sim = Simulation(10, sweeps= 5000) \n",
    "file_name = '../'+'elongation-rates/'+'YAL017W_rates.dat'\n",
    "# file_name = '../'+'kvalue_dummy.dat'\n",
    "sim.ExtractRates(file_name,0.045,18.03)\n"
   ]
  },
  {
   "cell_type": "code",
   "execution_count": 40,
   "metadata": {},
   "outputs": [
    {
     "name": "stdout",
     "output_type": "stream",
     "text": [
      "1 loop, best of 3: 24.2 s per loop\n"
     ]
    }
   ],
   "source": [
    "%%timeit\n",
    "sim.Reach_steady()\n",
    "sim.Run_Sim()"
   ]
  },
  {
   "cell_type": "code",
   "execution_count": 8,
   "metadata": {},
   "outputs": [],
   "source": [
    "import matplotlib.pyplot as plt\n"
   ]
  },
  {
   "cell_type": "code",
   "execution_count": 13,
   "metadata": {},
   "outputs": [
    {
     "data": {
      "image/png": "[encoded data removed]",
      "text/plain": [
       "<matplotlib.figure.Figure at 0x111da1be0>"
      ]
     },
     "metadata": {},
     "output_type": "display_data"
    }
   ],
   "source": [
    "plt.plot(np.arange(0,len(sim.rho_)),sim.rho_)\n",
    "plt.show()"
   ]
  },
  {
   "cell_type": "code",
   "execution_count": 4,
   "metadata": {},
   "outputs": [
    {
     "name": "stdout",
     "output_type": "stream",
     "text": [
      "         13570005 function calls in 21.344 seconds\n",
      "\n",
      "   Ordered by: standard name\n",
      "\n",
      "   ncalls  tottime  percall  cumtime  percall filename:lineno(function)\n",
      "        1    0.000    0.000   21.344   21.344 <string>:1(<module>)\n",
      " 13570000   19.520    0.000   19.520    0.000 simulation_up_cy.pyx:210(__Sim_run)\n",
      "        1    1.824    1.824   21.344   21.344 simulation_up_cy.pyx:87(Reach_steady)\n",
      "        1    0.000    0.000   21.344   21.344 {built-in method builtins.exec}\n",
      "        1    0.000    0.000   21.344   21.344 {method 'Reach_steady' of 'Cython_building.simulation_up_cy.Simulation' objects}\n",
      "        1    0.000    0.000    0.000    0.000 {method 'disable' of '_lsprof.Profiler' objects}\n",
      "\n",
      "\n"
     ]
    }
   ],
   "source": [
    "cProfile.run('sim.Reach_steady()')"
   ]
  },
  {
   "cell_type": "code",
   "execution_count": 7,
   "metadata": {},
   "outputs": [
    {
     "name": "stdout",
     "output_type": "stream",
     "text": [
      "Tue Mar 26 14:45:43 2019    Profile.prof\n",
      "\n",
      "         5109655 function calls in 9.403 seconds\n",
      "\n",
      "   Random listing order was used\n",
      "\n",
      "   ncalls  tottime  percall  cumtime  percall filename:lineno(function)\n",
      "   131019    0.026    0.000    0.026    0.000 {method 'insert' of 'list' objects}\n",
      "        1    0.000    0.000    9.403    9.403 {built-in method builtins.exec}\n",
      "   393039    0.075    0.000    0.075    0.000 {built-in method builtins.isinstance}\n",
      "   786114    0.072    0.000    0.072    0.000 {built-in method builtins.len}\n",
      "   131019    0.066    0.000    0.066    0.000 {built-in method builtins.sorted}\n",
      "   262038    0.027    0.000    0.027    0.000 {built-in method _operator.index}\n",
      "        1    0.000    0.000    0.000    0.000 {method 'disable' of '_lsprof.Profiler' objects}\n",
      "   393039    0.101    0.000    0.303    0.000 /Users/harshrathee/anaconda/lib/python3.6/site-packages/numpy/core/numeric.py:424(asarray)\n",
      "   262029    0.036    0.000    0.036    0.000 {method 'item' of 'numpy.ndarray' objects}\n",
      "   131019    0.046    0.000    0.046    0.000 {method 'transpose' of 'numpy.ndarray' objects}\n",
      "   655077    0.443    0.000    0.443    0.000 {built-in method numpy.core.multiarray.array}\n",
      "   262029    0.121    0.000    0.121    0.000 {built-in method numpy.core.multiarray.empty}\n",
      "   393048    0.091    0.000    0.091    0.000 {built-in method numpy.core.multiarray.normalize_axis_index}\n",
      "   524076    0.105    0.000    0.159    0.000 /Users/harshrathee/anaconda/lib/python3.6/site-packages/numpy/core/numeric.py:1506(<genexpr>)\n",
      "   262038    0.476    0.000    0.715    0.000 /Users/harshrathee/anaconda/lib/python3.6/site-packages/numpy/core/numeric.py:1459(normalize_axis_tuple)\n",
      "   131019    0.027    0.000    0.027    0.000 /Users/harshrathee/anaconda/lib/python3.6/site-packages/numpy/core/numeric.py:1577(<listcomp>)\n",
      "   131019    0.396    0.000    1.296    0.000 /Users/harshrathee/anaconda/lib/python3.6/site-packages/numpy/core/numeric.py:1515(moveaxis)\n",
      "   131010    0.757    0.000    1.152    0.000 /Users/harshrathee/anaconda/lib/python3.6/site-packages/numpy/lib/function_base.py:4703(delete)\n",
      "   131019    0.954    0.000    2.669    0.000 /Users/harshrathee/anaconda/lib/python3.6/site-packages/numpy/lib/function_base.py:4908(insert)\n",
      "        1    5.582    5.582    9.403    9.403 {method 'Reach_steady' of 'Cython_building.simulation_up_cy.Simulation' objects}\n",
      "        1    0.000    0.000    9.403    9.403 <string>:1(<module>)\n",
      "\n",
      "\n"
     ]
    },
    {
     "data": {
      "text/plain": [
       "<pstats.Stats at 0x10314d128>"
      ]
     },
     "execution_count": 7,
     "metadata": {},
     "output_type": "execute_result"
    }
   ],
   "source": [
    "cProfile.runctx(\"sim.Reach_steady()\", globals(), locals(), \"Profile.prof\")\n",
    "\n",
    "s = pstats.Stats(\"Profile.prof\")\n",
    "s.print_stats()"
   ]
  },
  {
   "cell_type": "code",
   "execution_count": 19,
   "metadata": {
    "collapsed": true
   },
   "outputs": [],
   "source": [
    "import numba\n",
    "from numba import jit\n",
    "import array"
   ]
  },
  {
   "cell_type": "code",
   "execution_count": 22,
   "metadata": {},
   "outputs": [],
   "source": [
    "@jit\n",
    "def test():\n",
    "    a = array.array('i',[1,2,3,4])\n",
    "    \n",
    "    for i in range(2000):\n",
    "        \n",
    "        a.insert(1,2)\n",
    "    "
   ]
  },
  {
   "cell_type": "code",
   "execution_count": 23,
   "metadata": {},
   "outputs": [
    {
     "name": "stdout",
     "output_type": "stream",
     "text": [
      "The slowest run took 261.51 times longer than the fastest. This could mean that an intermediate result is being cached.\n",
      "1000 loops, best of 3: 562 µs per loop\n"
     ]
    }
   ],
   "source": [
    "%timeit test()"
   ]
  },
  {
   "cell_type": "code",
   "execution_count": 16,
   "metadata": {
    "collapsed": true
   },
   "outputs": [],
   "source": []
  },
  {
   "cell_type": "code",
   "execution_count": 17,
   "metadata": {},
   "outputs": [
    {
     "data": {
      "text/plain": [
       "[5, 1, 2, 3]"
      ]
     },
     "execution_count": 17,
     "metadata": {},
     "output_type": "execute_result"
    }
   ],
   "source": []
  },
  {
   "cell_type": "code",
   "execution_count": 24,
   "metadata": {},
   "outputs": [],
   "source": [
    "%load_ext Cython"
   ]
  },
  {
   "cell_type": "code",
   "execution_count": 36,
   "metadata": {},
   "outputs": [],
   "source": [
    "# %%cython\n",
    "\n",
    "def test_2():\n",
    "    \n",
    "#     cdef int i \n",
    "    for i in range(2000*500):\n",
    "        pass\n",
    "\n"
   ]
  },
  {
   "cell_type": "code",
   "execution_count": 37,
   "metadata": {},
   "outputs": [
    {
     "name": "stdout",
     "output_type": "stream",
     "text": [
      "10 loops, best of 3: 19.1 ms per loop\n"
     ]
    }
   ],
   "source": [
    "%timeit test_2()"
   ]
  },
  {
   "cell_type": "code",
   "execution_count": 5,
   "metadata": {},
   "outputs": [
    {
     "ename": "TypeError",
     "evalue": "unsupported operand type(s) for /: 'array.array' and 'int'",
     "output_type": "error",
     "traceback": [
      "\u001b[0;31m---------------------------------------------------------------------------\u001b[0m",
      "\u001b[0;31mTypeError\u001b[0m                                 Traceback (most recent call last)",
      "\u001b[0;32m<ipython-input-5-6234134d68d6>\u001b[0m in \u001b[0;36m<module>\u001b[0;34m()\u001b[0m\n\u001b[1;32m      1\u001b[0m \u001b[0ma\u001b[0m \u001b[0;34m=\u001b[0m \u001b[0marray\u001b[0m\u001b[0;34m.\u001b[0m\u001b[0marray\u001b[0m\u001b[0;34m(\u001b[0m\u001b[0;34m'i'\u001b[0m\u001b[0;34m,\u001b[0m\u001b[0;34m[\u001b[0m\u001b[0;36m1\u001b[0m\u001b[0;34m,\u001b[0m\u001b[0;36m2\u001b[0m\u001b[0;34m,\u001b[0m\u001b[0;36m3\u001b[0m\u001b[0;34m]\u001b[0m\u001b[0;34m)\u001b[0m\u001b[0;34m\u001b[0m\u001b[0;34m\u001b[0m\u001b[0m\n\u001b[1;32m      2\u001b[0m \u001b[0;34m\u001b[0m\u001b[0m\n\u001b[0;32m----> 3\u001b[0;31m \u001b[0ma\u001b[0m\u001b[0;34m/\u001b[0m\u001b[0;36m2\u001b[0m\u001b[0;34m\u001b[0m\u001b[0;34m\u001b[0m\u001b[0m\n\u001b[0m",
      "\u001b[0;31mTypeError\u001b[0m: unsupported operand type(s) for /: 'array.array' and 'int'"
     ]
    }
   ],
   "source": []
  },
  {
   "cell_type": "code",
   "execution_count": 1,
   "metadata": {},
   "outputs": [
    {
     "name": "stderr",
     "output_type": "stream",
     "text": [
      "ERROR:root:Cell magic `%%cython` not found.\n"
     ]
    }
   ],
   "source": []
  },
  {
   "cell_type": "code",
   "execution_count": 49,
   "metadata": {},
   "outputs": [
    {
     "name": "stdout",
     "output_type": "stream",
     "text": [
      "10 loops, best of 3: 62.2 ms per loop\n"
     ]
    }
   ],
   "source": []
  },
  {
   "cell_type": "code",
   "execution_count": null,
   "metadata": {
    "collapsed": true
   },
   "outputs": [],
   "source": []
  }
 ],
 "metadata": {
  "kernelspec": {
   "display_name": "Python 3",
   "language": "python",
   "name": "python3"
  },
  "language_info": {
   "codemirror_mode": {
    "name": "ipython",
    "version": 3
   },
   "file_extension": ".py",
   "mimetype": "text/x-python",
   "name": "python",
   "nbconvert_exporter": "python",
   "pygments_lexer": "ipython3",
   "version": "3.6.8"
  }
 },
 "nbformat": 4,
 "nbformat_minor": 2
}
