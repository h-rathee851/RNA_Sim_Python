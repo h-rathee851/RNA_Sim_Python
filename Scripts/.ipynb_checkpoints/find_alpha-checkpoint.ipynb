{
 "cells": [
  {
   "cell_type": "code",
   "execution_count": 1,
   "metadata": {
    "collapsed": true
   },
   "outputs": [],
   "source": [
    "import numpy as np\n",
    "# import pyximport; pyximport.install(setup_args={\n",
    "#                               \"include_dirs\":np.get_include()},\n",
    "#                   reload_support=True)\n",
    "\n",
    "from helper_methods_cy import *\n",
    "from simulation_up_cy import *\n",
    "\n",
    "from scipy.optimize import brentq\n",
    "import math\n",
    "# from simulation_up_cy import *\n"
   ]
  },
  {
   "cell_type": "code",
   "execution_count": null,
   "metadata": {
    "collapsed": true
   },
   "outputs": [],
   "source": []
  },
  {
   "cell_type": "code",
   "execution_count": null,
   "metadata": {
    "collapsed": true
   },
   "outputs": [],
   "source": []
  },
  {
   "cell_type": "code",
   "execution_count": 2,
   "metadata": {
    "collapsed": true
   },
   "outputs": [],
   "source": [
    "def rho_alpha(alpha,sim):\n",
    "    \n",
    "      \n",
    "    sim.ChangeAlpha(alpha)\n",
    "#     print(\"New Alpha: \" + str(alpha))\n",
    "    \n",
    "    sim.Reach_steady()\n",
    "    sim.Run_Sim()\n",
    "    \n",
    "#     plt.plot(np.arange(0,len(sim1.rho_)),sim1.rho_)\n",
    "#     plt.ylim(0,0.12)\n",
    "#     plt.show()\n",
    "    \n",
    "    return sim.getTot_den()\n",
    "\n",
    "\n",
    "def func_for_brent(alpha,exp_den,*args):\n",
    "    \n",
    "    return rho_alpha(alpha,*args) - exp_den\n",
    "\n",
    "def plot_rho(low_bound,upper_bound,sim, rho_exp):\n",
    "    \n",
    "    alpha_ = []\n",
    "    totden_ = []\n",
    "    n = 0\n",
    "    steps = 5 \n",
    "    \n",
    "    for i in np.linspace(low_bound,upper_bound,steps):\n",
    "        \n",
    "        \n",
    "#         totden_ += [rho_alpha(i,10,18.03,'kvalue_dummy.dat')]\n",
    "        totden_ += [func_for_brent(i,rho_exp,sim)]\n",
    "        alpha_ += [i]\n",
    "        n += 1\n",
    "        print(str(n*100/steps)+'% done')\n",
    "        \n",
    "        \n",
    "        \n",
    "    plt.plot(alpha_,totden_)\n",
    "    plt.show()\n",
    "    \n",
    "def calcAlpha(args,brac):\n",
    "    \n",
    "    alpha, *aux = brentq(func_for_brent,*brac,args = args, full_output= True)\n",
    "    \n",
    "    return alpha,aux\n",
    "\n",
    "\n",
    "def calcAvgAndErr_rho(alpha,sim):\n",
    "        \n",
    "    rho_ = []\n",
    "    \n",
    "    for i in range(5):\n",
    "        \n",
    "        rho_.append(rho_alpha(alpha,sim))\n",
    "\n",
    "    \n",
    "    rho_ = np.array(rho_)\n",
    "    \n",
    "    mean = np.mean(rho_)\n",
    "    \n",
    "    error = np.std(rho_)/math.sqrt(5)\n",
    "    \n",
    "    rel_error = error*100/mean\n",
    "    \n",
    "    return mean,error,rel_error\n",
    "\n",
    "def calcAvgAndErr_alpha(args,brac):\n",
    "    \n",
    "    alpha_ = []\n",
    "    \n",
    "    for i in range(5):\n",
    "        \n",
    "        print(i)\n",
    "        a = calcAlpha(args,brac)\n",
    "        alpha_.append(a[0])\n",
    "        \n",
    "    \n",
    "    alpha_ = np.array(alpha_)\n",
    "    \n",
    "    mean = np.mean(alpha_)\n",
    "    \n",
    "    error = np.std(alpha_)/math.sqrt(5)\n",
    "    \n",
    "    rel_error = error*100/mean\n",
    "    \n",
    "    return mean,error,rel_error"
   ]
  },
  {
   "cell_type": "code",
   "execution_count": 3,
   "metadata": {
    "collapsed": true
   },
   "outputs": [],
   "source": [
    "sim_test = Simulation(10, sweeps= 5000) \n",
    "file_name = '../'+'elongation-rates/'+'YBL108W_rates.dat'\n",
    "sim_test.ExtractRates(file_name,0.1,18.03)\n",
    "# rho_alpha(0.35,sim_test)"
   ]
  },
  {
   "cell_type": "code",
   "execution_count": 22,
   "metadata": {},
   "outputs": [
    {
     "name": "stdout",
     "output_type": "stream",
     "text": [
      "2 loops, best of 3: 23.8 s per loop\n"
     ]
    }
   ],
   "source": [
    "%timeit -n2 -r3 rho_alpha(0.35,sim_test) # pyximport"
   ]
  },
  {
   "cell_type": "code",
   "execution_count": 4,
   "metadata": {},
   "outputs": [
    {
     "name": "stdout",
     "output_type": "stream",
     "text": [
      "2 loops, best of 3: 34.2 s per loop\n"
     ]
    }
   ],
   "source": [
    "%timeit -n2 -r3 rho_alpha(0.35,sim_test) # No cython"
   ]
  },
  {
   "cell_type": "code",
   "execution_count": 4,
   "metadata": {},
   "outputs": [
    {
     "name": "stdout",
     "output_type": "stream",
     "text": [
      "1 loop, best of 3: 20.6 s per loop\n"
     ]
    }
   ],
   "source": [
    "%timeit rho_alpha(0.35,sim_test) #Cython"
   ]
  },
  {
   "cell_type": "code",
   "execution_count": 4,
   "metadata": {},
   "outputs": [
    {
     "name": "stdout",
     "output_type": "stream",
     "text": [
      "1 loop, best of 3: 3min 14s per loop\n"
     ]
    }
   ],
   "source": [
    "%timeit calcAlpha((0.0197,sim_test),(0.001,0.5))"
   ]
  },
  {
   "cell_type": "code",
   "execution_count": 11,
   "metadata": {
    "collapsed": true
   },
   "outputs": [],
   "source": [
    "sim = Simulation(10)\n",
    "file_name = '../'+'elongation-rates/'+'YBL108W_rates.dat'\n",
    "sim.ExtractRates(file_name,0.1,18.03)"
   ]
  },
  {
   "cell_type": "code",
   "execution_count": 12,
   "metadata": {},
   "outputs": [
    {
     "data": {
      "text/plain": [
       "(0.047142654486653834, 8.770763375693108e-05, 0.18604729562218703)"
      ]
     },
     "execution_count": 12,
     "metadata": {},
     "output_type": "execute_result"
    }
   ],
   "source": [
    "calcAvgAndErr_rho(0.34,sim)"
   ]
  },
  {
   "cell_type": "code",
   "execution_count": 13,
   "metadata": {},
   "outputs": [
    {
     "data": {
      "text/plain": [
       "2500.0"
      ]
     },
     "execution_count": 13,
     "metadata": {},
     "output_type": "execute_result"
    }
   ],
   "source": [
    "sim.RUNS/sim.LEN"
   ]
  },
  {
   "cell_type": "code",
   "execution_count": 14,
   "metadata": {},
   "outputs": [
    {
     "data": {
      "text/plain": [
       "0.1"
      ]
     },
     "execution_count": 14,
     "metadata": {},
     "output_type": "execute_result"
    }
   ],
   "source": [
    "sim.rel_tol"
   ]
  },
  {
   "cell_type": "code",
   "execution_count": 44,
   "metadata": {
    "collapsed": true
   },
   "outputs": [],
   "source": [
    "sim2 = Simulation(10,sweeps = 5000)\n",
    "file_name = '../'+'elongation-rates/'+'YBL108W_rates.dat'\n",
    "sim2.ExtractRates(file_name,0.1,18.03)"
   ]
  },
  {
   "cell_type": "code",
   "execution_count": 45,
   "metadata": {},
   "outputs": [
    {
     "data": {
      "text/plain": [
       "(0.04688027104307153, 0.00011865308386141604, 0.25309811829458667)"
      ]
     },
     "execution_count": 45,
     "metadata": {},
     "output_type": "execute_result"
    }
   ],
   "source": [
    "calcAvgAndErr_rho(0.34,sim2)"
   ]
  },
  {
   "cell_type": "code",
   "execution_count": 46,
   "metadata": {
    "collapsed": true
   },
   "outputs": [],
   "source": [
    "sim3 = Simulation(10,sweeps = 10000)\n",
    "file_name = '../'+'elongation-rates/'+'YBL108W_rates.dat'\n",
    "sim3.ExtractRates(file_name,0.1,18.03)"
   ]
  },
  {
   "cell_type": "code",
   "execution_count": 47,
   "metadata": {},
   "outputs": [
    {
     "data": {
      "text/plain": [
       "(0.047205294237069303, 9.88197272442436e-05, 0.209340348029528)"
      ]
     },
     "execution_count": 47,
     "metadata": {},
     "output_type": "execute_result"
    }
   ],
   "source": [
    "calcAvgAndErr_rho(0.34,sim3)"
   ]
  },
  {
   "cell_type": "code",
   "execution_count": 49,
   "metadata": {
    "collapsed": true
   },
   "outputs": [],
   "source": [
    "sim4 = Simulation(10,rel_tol = 1)\n",
    "file_name = '../'+'elongation-rates/'+'YBL108W_rates.dat'\n",
    "sim4.ExtractRates(file_name,0.1,18.03)"
   ]
  },
  {
   "cell_type": "code",
   "execution_count": 50,
   "metadata": {},
   "outputs": [
    {
     "data": {
      "text/plain": [
       "(0.0473270023616439, 0.0002168409483804874, 0.45817596205126615)"
      ]
     },
     "execution_count": 50,
     "metadata": {},
     "output_type": "execute_result"
    }
   ],
   "source": [
    "calcAvgAndErr_rho(0.34,sim4)"
   ]
  },
  {
   "cell_type": "code",
   "execution_count": 53,
   "metadata": {},
   "outputs": [
    {
     "data": {
      "text/plain": [
       "2000.0"
      ]
     },
     "execution_count": 53,
     "metadata": {},
     "output_type": "execute_result"
    }
   ],
   "source": [
    "sim4.RUNS/sim.LEN"
   ]
  },
  {
   "cell_type": "code",
   "execution_count": 54,
   "metadata": {},
   "outputs": [
    {
     "data": {
      "text/plain": [
       "1"
      ]
     },
     "execution_count": 54,
     "metadata": {},
     "output_type": "execute_result"
    }
   ],
   "source": [
    "sim4.rel_tol"
   ]
  },
  {
   "cell_type": "code",
   "execution_count": 3,
   "metadata": {
    "collapsed": true
   },
   "outputs": [],
   "source": [
    "# Simulation_old\n",
    "\n",
    "sim5 = Simulation(10,sweeps = 5000)\n",
    "file_name = '../'+'elongation-rates/'+'YBL108W_rates.dat'\n",
    "sim5.ExtractRates(file_name,0.1,18.03)"
   ]
  },
  {
   "cell_type": "code",
   "execution_count": 4,
   "metadata": {},
   "outputs": [
    {
     "data": {
      "text/plain": [
       "(0.04730476218688063, 0.00012852299018206926, 0.2716914412851936)"
      ]
     },
     "execution_count": 4,
     "metadata": {},
     "output_type": "execute_result"
    }
   ],
   "source": [
    "calcAvgAndErr_rho(0.34,sim5)"
   ]
  },
  {
   "cell_type": "code",
   "execution_count": 3,
   "metadata": {
    "collapsed": true
   },
   "outputs": [],
   "source": [
    "sim6 = Simulation(10)\n",
    "file_name = '../'+'elongation-rates/'+'YBL108W_rates.dat'\n",
    "sim6.ExtractRates(file_name,0.1,18.03)"
   ]
  },
  {
   "cell_type": "code",
   "execution_count": 6,
   "metadata": {},
   "outputs": [
    {
     "data": {
      "text/plain": [
       "(0.3352722310793297, 0.002216829281399329, 0.6612027707343288)"
      ]
     },
     "execution_count": 6,
     "metadata": {},
     "output_type": "execute_result"
    }
   ],
   "source": [
    "calcAvgAndErr_alpha((0.04697,sim6),(0.125,0.525))"
   ]
  },
  {
   "cell_type": "code",
   "execution_count": 7,
   "metadata": {},
   "outputs": [
    {
     "data": {
      "text/plain": [
       "1000.0"
      ]
     },
     "execution_count": 7,
     "metadata": {},
     "output_type": "execute_result"
    }
   ],
   "source": [
    "sim6.RUNS/sim6.LEN"
   ]
  },
  {
   "cell_type": "code",
   "execution_count": 3,
   "metadata": {
    "collapsed": true
   },
   "outputs": [],
   "source": [
    "sim7 = Simulation(10, sweeps = 10000)\n",
    "file_name = '../'+'elongation-rates/'+'YBL108W_rates.dat'\n",
    "sim7.ExtractRates(file_name,0.1,18.03)"
   ]
  },
  {
   "cell_type": "code",
   "execution_count": 1,
   "metadata": {},
   "outputs": [],
   "source": [
    "# calcAvgAndErr_alpha((0.04697,sim7),(0.125,0.525))"
   ]
  },
  {
   "cell_type": "code",
   "execution_count": 5,
   "metadata": {},
   "outputs": [
    {
     "data": {
      "text/plain": [
       "'hellohellohellohellohello'"
      ]
     },
     "execution_count": 5,
     "metadata": {},
     "output_type": "execute_result"
    }
   ],
   "source": [
    "'hello'*5"
   ]
  },
  {
   "cell_type": "code",
   "execution_count": null,
   "metadata": {
    "collapsed": true
   },
   "outputs": [],
   "source": []
  }
 ],
 "metadata": {
  "kernelspec": {
   "display_name": "Python 3",
   "language": "python",
   "name": "python3"
  },
  "language_info": {
   "codemirror_mode": {
    "name": "ipython",
    "version": 3
   },
   "file_extension": ".py",
   "mimetype": "text/x-python",
   "name": "python",
   "nbconvert_exporter": "python",
   "pygments_lexer": "ipython3",
   "version": "3.6.8"
  }
 },
 "nbformat": 4,
 "nbformat_minor": 2
}
