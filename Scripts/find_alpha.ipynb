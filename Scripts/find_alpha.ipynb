{
 "cells": [
  {
   "cell_type": "code",
   "execution_count": 1,
   "metadata": {
    "collapsed": true
   },
   "outputs": [],
   "source": [
    "import numpy as np\n",
    "from helper_methods_cy import *\n",
    "# import pyximport; pyximport.install(setup_args={\n",
    "#                               \"include_dirs\":np.get_include()},\n",
    "#                   reload_support=True)\n",
    "\n",
    "\n",
    "from helper_methods_cy import *\n",
    "from simulation_up_cy import *\n",
    "\n",
    "from scipy.optimize import brentq\n",
    "import math\n",
    "# from simulation_up_cy import *\n"
   ]
  },
  {
   "cell_type": "code",
   "execution_count": null,
   "metadata": {
    "collapsed": true
   },
   "outputs": [],
   "source": []
  },
  {
   "cell_type": "code",
   "execution_count": null,
   "metadata": {
    "collapsed": true
   },
   "outputs": [],
   "source": []
  },
  {
   "cell_type": "code",
   "execution_count": 2,
   "metadata": {
    "collapsed": true
   },
   "outputs": [],
   "source": [
    "def rho_alpha(alpha,sim):\n",
    "    \n",
    "      \n",
    "    sim.ChangeAlpha(alpha)\n",
    "#     print(\"New Alpha: \" + str(alpha))\n",
    "    \n",
    "    sim.Reach_steady()\n",
    "    sim.Run_Sim()\n",
    "    \n",
    "#     plt.plot(np.arange(0,len(sim1.rho_)),sim1.rho_)\n",
    "#     plt.ylim(0,0.12)\n",
    "#     plt.show()\n",
    "    \n",
    "    return sim.getTot_den()\n",
    "\n",
    "\n",
    "def func_for_brent(alpha,exp_den,*args):\n",
    "    \n",
    "    return rho_alpha(alpha,*args) - exp_den\n",
    "\n",
    "def plot_rho(low_bound,upper_bound,sim,rho_exp):\n",
    "    \n",
    "    alpha_ = []\n",
    "    totden_ = []\n",
    "    n = 0\n",
    "    steps = 10 \n",
    "    \n",
    "    for i in np.linspace(low_bound,upper_bound,steps):\n",
    "        \n",
    "        \n",
    "#         totden_ += [rho_alpha(i,10,18.03,'kvalue_dummy.dat')]\n",
    "        totden_ += [rho_alpha(i,sim)-rho_exp]\n",
    "        alpha_ += [i]\n",
    "        n += 1\n",
    "        print(str(n*100/steps)+'% done')\n",
    "        \n",
    "        \n",
    "        \n",
    "    plt.plot(alpha_,totden_)\n",
    "    plt.plot(np.linspace(low_bound,upper_bound,steps),[0]*steps,label=\"Experimental Density\")\n",
    "    plt.xlabel(r\"$\\alpha$codons/s\")\n",
    "    plt.ylabel(r\"$\\bar{\\rho} - \\bar{\\rho}_{exp}$\")\n",
    "    plt.title(r\"Calculated Ribosomal density vs $\\alpha$(codons/s)\")\n",
    "#     plt.legend()\n",
    "    plt.show()\n",
    "    \n",
    "def calcAlpha(args,brac):\n",
    "    \n",
    "    alpha, *aux = brentq(func_for_brent,*brac,args = args, full_output= True)\n",
    "    \n",
    "    return alpha,aux\n",
    "\n",
    "\n",
    "def calcAvgAndErr_rho(alpha,sim):\n",
    "        \n",
    "    rho_ = []\n",
    "    \n",
    "    for i in range(10):\n",
    "        \n",
    "        rho_.append(rho_alpha(alpha,sim))\n",
    "\n",
    "    \n",
    "    rho_ = np.array(rho_)\n",
    "    \n",
    "    mean = np.mean(rho_)\n",
    "    \n",
    "    error = np.std(rho_)/math.sqrt(5)\n",
    "    \n",
    "    rel_error = error*100/mean\n",
    "    \n",
    "    return mean,error,rel_error\n",
    "\n",
    "def calcAvgAndErr_alpha(args,brac):\n",
    "    \n",
    "    alpha_ = []\n",
    "    \n",
    "    for i in range(5):\n",
    "        \n",
    "        print(i)\n",
    "        a = calcAlpha(args,brac)\n",
    "        alpha_.append(a[0])\n",
    "        \n",
    "    \n",
    "    alpha_ = np.array(alpha_)\n",
    "    \n",
    "    mean = np.mean(alpha_)\n",
    "    \n",
    "    error = np.std(alpha_)/math.sqrt(5)\n",
    "    \n",
    "    rel_error = error*100/mean\n",
    "    \n",
    "    return mean,error,rel_error"
   ]
  },
  {
   "cell_type": "code",
   "execution_count": 6,
   "metadata": {
    "collapsed": true
   },
   "outputs": [],
   "source": [
    "sim = Simulation(10, sweeps = 20000)\n",
    "file_name = '../'+'elongation-rates/'+'YAL046C_rates.dat'\n",
    "sim.ExtractRates(file_name,0.2,18.03)\n",
    "# sim9.ExtractRates(file_name,0.1,18.03)"
   ]
  },
  {
   "cell_type": "code",
   "execution_count": 22,
   "metadata": {},
   "outputs": [
    {
     "name": "stdout",
     "output_type": "stream",
     "text": [
      "1 loop, best of 3: 27.2 s per loop\n"
     ]
    }
   ],
   "source": [
    "%%timeit\n",
    "sim.Reach_steady()\n",
    "sim.Run_Sim()\n"
   ]
  },
  {
   "cell_type": "code",
   "execution_count": 10,
   "metadata": {
    "collapsed": true
   },
   "outputs": [],
   "source": [
    "\n",
    "alpha,*aux = calcAlpha((0.01755,sim), (0.00001,1))"
   ]
  },
  {
   "cell_type": "code",
   "execution_count": 11,
   "metadata": {},
   "outputs": [
    {
     "data": {
      "text/plain": [
       "0.083003188431836"
      ]
     },
     "execution_count": 11,
     "metadata": {},
     "output_type": "execute_result"
    }
   ],
   "source": [
    "alpha"
   ]
  },
  {
   "cell_type": "code",
   "execution_count": 12,
   "metadata": {},
   "outputs": [
    {
     "data": {
      "text/plain": [
       "[[      converged: True\n",
       "             flag: 'converged'\n",
       "   function_calls: 34\n",
       "       iterations: 33\n",
       "             root: 0.083003188431836]]"
      ]
     },
     "execution_count": 12,
     "metadata": {},
     "output_type": "execute_result"
    }
   ],
   "source": [
    "aux"
   ]
  },
  {
   "cell_type": "code",
   "execution_count": 9,
   "metadata": {},
   "outputs": [
    {
     "data": {
      "text/plain": [
       "119"
      ]
     },
     "execution_count": 9,
     "metadata": {},
     "output_type": "execute_result"
    }
   ],
   "source": [
    "sim.LEN"
   ]
  },
  {
   "cell_type": "code",
   "execution_count": null,
   "metadata": {
    "collapsed": true
   },
   "outputs": [],
   "source": []
  },
  {
   "cell_type": "code",
   "execution_count": null,
   "metadata": {
    "collapsed": true
   },
   "outputs": [],
   "source": []
  }
 ],
 "metadata": {
  "kernelspec": {
   "display_name": "Python 3",
   "language": "python",
   "name": "python3"
  },
  "language_info": {
   "codemirror_mode": {
    "name": "ipython",
    "version": 3
   },
   "file_extension": ".py",
   "mimetype": "text/x-python",
   "name": "python",
   "nbconvert_exporter": "python",
   "pygments_lexer": "ipython3",
   "version": "3.6.8"
  }
 },
 "nbformat": 4,
 "nbformat_minor": 2
}
