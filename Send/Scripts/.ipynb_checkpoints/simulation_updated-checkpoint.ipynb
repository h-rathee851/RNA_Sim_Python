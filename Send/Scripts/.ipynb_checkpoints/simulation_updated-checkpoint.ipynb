{
 "cells": [
  {
   "cell_type": "code",
   "execution_count": 55,
   "metadata": {},
   "outputs": [],
   "source": [
    "\n",
    "# coding: utf-8\n",
    "\n",
    "# In[3]:\n",
    "\n",
    "import numpy as np\n",
    "import math\n",
    "import random\n",
    "from helper_methods import *\n",
    "import matplotlib.pyplot as plt\n",
    "\n",
    "\n",
    "# In[2]:\n",
    "\n",
    "# B = 18.03 , alpha = 0.1, start position 2 E = 0.001, rel_error < 1%\n",
    "\n",
    "\n",
    "# In[4]:\n",
    "\n",
    "class Simulation:\n",
    "    \n",
    "    \"\"\"\n",
    "    Class containing the main methods to run the simulation\n",
    "    \"\"\"\n",
    "    \n",
    "    def __init__(self,L, rel_tol = 0.1, sweeps = 0):\n",
    "        \n",
    "        self.L = L\n",
    "        self.sweeps = sweeps\n",
    "        self.rib_pos_ = np.array([], dtype=int)\n",
    "        self.rel_tol = rel_tol\n",
    "        \n",
    "        \n",
    "        \n",
    "    def ExtractRates(self,file_name,alpha,beta):\n",
    "    \n",
    "        self.w_ = Extract_hopping_rates(open(file_name, 'r'), alpha,beta)\n",
    "        self.LEN = len(self.w_) - 1\n",
    "        self.RUNS = self.sweeps * self.LEN\n",
    "        \n",
    "    def ChangeAlpha(self,alpha):\n",
    "        \n",
    "        self.w_[0] = alpha\n",
    "        \n",
    "        return\n",
    "    def Reach_steady(self):\n",
    "        \n",
    "        self.pos_jump_ = np.zeros(1,dtype=int)\n",
    "        self.pos_w_ = np.array([self.w_[0]])\n",
    "        t = 0\n",
    "        \n",
    "        no_rib_enter = 0\n",
    "        no_rib_exit = 0\n",
    "        \n",
    "        runs = 0\n",
    "        \n",
    "        \n",
    "        entry_current_new = 0\n",
    "        \n",
    "        while True:\n",
    "            \n",
    "            t, enter, exit, move =  self.__Sim_run(t)\n",
    "            \n",
    "            runs += 1\n",
    "            \n",
    "            if enter:\n",
    "                no_rib_enter += 1\n",
    "            elif exit:\n",
    "                no_rib_exit += 1\n",
    "              \n",
    "            if runs == 1:\n",
    "                \n",
    "                entry_current_new = no_rib_enter/t\n",
    "            \n",
    "#            exit_current = no_rib_exit/t\n",
    "            \n",
    "            if self.RUNS == 0 and ((runs/self.LEN)%500) == 0:\n",
    "               \n",
    "                entry_current_old = entry_current_new\n",
    "                entry_current_new = no_rib_enter/t\n",
    "                   \n",
    "            \n",
    "                if self.__checkSteadyState(entry_current_old,entry_current_new):\n",
    "                \n",
    "                    break\n",
    "                \n",
    "            elif self.RUNS !=0 and runs >=self.RUNS:\n",
    "                \n",
    "                break\n",
    "            \n",
    "            \n",
    "           \n",
    "        if self.RUNS == 0:\n",
    "            \n",
    "            self.RUNS = runs\n",
    "            \n",
    "            \n",
    "    def Run_Sim(self):\n",
    "        \n",
    "        self.TIME = 0\n",
    "        self.current = 0\n",
    "        self.rho_ = np.zeros(self.LEN)\n",
    "        \n",
    "        no_rib_enter = 0\n",
    "        \n",
    "        x_ = []\n",
    "        y_ = []\n",
    "        \n",
    "        \n",
    "        for i in range(self.RUNS):\n",
    "            \n",
    "            self.TIME,enter, *aux = self.__Sim_run(self.TIME,True)\n",
    "            \n",
    "            if enter:\n",
    "                \n",
    "                no_rib_enter += 1\n",
    "            \n",
    "#             if i % 2000 == 0:\n",
    "                \n",
    "#                 y_ += [self.rho_[int(self.LEN/2)]/self.TIME]\n",
    "# #                 print(self.rho_/self.TIME)\n",
    "\n",
    "#                 x_ += [self.TIME]\n",
    "    \n",
    "    \n",
    "        self.current = no_rib_enter/self.TIME\n",
    "    \n",
    "        self.rho_ = self.rho_/self.TIME\n",
    "        self.rho_ = self.rho_[1:]\n",
    "        \n",
    "#         plt.plot(x_,y_)\n",
    "#         plt.show()\n",
    "\n",
    "\n",
    "    def __Sim_run(self, t = 0, steady_reached = False):\n",
    "        \n",
    "        enter = False\n",
    "        exit = False\n",
    "        move = False\n",
    "        \n",
    "#         print(self.pos_jump_)\n",
    "       # self.pos_w_ = []\n",
    "    \n",
    "#        self.pos_jump_ = Find_pos_jumps(self.rib_pos_,self.L) \n",
    "       \n",
    "        \n",
    "#         print(self.rib_pos_)\n",
    "        \n",
    "#         print(pos_jump_)\n",
    "    \n",
    "#         for i in self.pos_jump_:\n",
    "        \n",
    "#            self.pos_w_ += [self.w_[i]]\n",
    "        \n",
    "        tau = Get_tau(self.pos_w_)\n",
    "        \n",
    "        t += tau\n",
    "    \n",
    "        index = Get_mu(self.pos_w_)\n",
    "        \n",
    "#         print(index)\n",
    "        \n",
    "        if steady_reached:\n",
    "            \n",
    "            self.__calcDensity(tau)\n",
    "    \n",
    "        \n",
    "        if self.pos_jump_[index] == 0:\n",
    "            \n",
    "#             print(\"Here-\", str(index))\n",
    "        \n",
    "            self.rib_pos_ = np.insert(self.rib_pos_,0,2)\n",
    "#             self.pos_jump_= np.delete(self.pos_jump_, index)\n",
    "           # rib_pos_index = np.where(self.rib_pos_ == pos_jump_[index])\n",
    "            if len(self.rib_pos_) > 1:\n",
    "                if self.rib_pos_[1] > self.L+2: \n",
    "                    self.pos_jump_[index] = 2\n",
    "                    self.pos_w_[index] = self.w_[2]\n",
    "                elif self.rib_pos_[1] <= self.L+2:\n",
    "                    self.pos_jump_= np.delete(self.pos_jump_, index)\n",
    "                    self.pos_w_= np.delete(self.pos_w_, index)\n",
    "            else:\n",
    "                self.pos_jump_[index] = 2\n",
    "                self.pos_w_[index] = self.w_[2]\n",
    "                \n",
    "            enter = True\n",
    "        \n",
    "        elif self.pos_jump_[index] == self.LEN:\n",
    "        \n",
    "            self.rib_pos_ = np.delete(self.rib_pos_, -1)\n",
    "            \n",
    "            \n",
    "            if len(self.rib_pos_) >= 1 and self.rib_pos_[-1] == self.LEN-self.L:\n",
    "                self.pos_jump_[index] = self.rib_pos_[-1]\n",
    "                self.pos_w_[index] = self.w_[self.rib_pos_[-1]]\n",
    "            \n",
    "            else:\n",
    "                self.pos_jump_= np.delete(self.pos_jump_, index)\n",
    "                self.pos_w_= np.delete(self.pos_w_, index)\n",
    "                \n",
    "            exit = True\n",
    "        \n",
    "        else:\n",
    "        \n",
    "            rib_pos_index = np.where(self.rib_pos_ == self.pos_jump_[index])\n",
    "            rib_pos_index = rib_pos_index[0][0]\n",
    "            self.rib_pos_[rib_pos_index] += int(1)\n",
    "            \n",
    "#             self.pos_jump_= np.delete(self.pos_jump_, index)\n",
    "            \n",
    "            if len(self.rib_pos_) > rib_pos_index+1:\n",
    "                if self.rib_pos_[rib_pos_index+1] - self.rib_pos_[rib_pos_index] > self.L:\n",
    "                    self.pos_jump_[index] = self.rib_pos_[rib_pos_index]\n",
    "                    self.pos_w_[index] = self.w_[self.rib_pos_[rib_pos_index]]\n",
    "                else:\n",
    "                    self.pos_jump_= np.delete(self.pos_jump_, index)\n",
    "                    self.pos_w_= np.delete(self.pos_w_, index)\n",
    "            else:\n",
    "                \n",
    "                self.pos_jump_[index] = self.rib_pos_[rib_pos_index]\n",
    "                self.pos_w_[index] = self.w_[self.rib_pos_[rib_pos_index]]\n",
    "                \n",
    "            if rib_pos_index != 0 and self.rib_pos_[rib_pos_index] - self.rib_pos_[rib_pos_index-1] == self.L+1 :\n",
    "                \n",
    "                self.pos_jump_ = np.insert(self.pos_jump_,index,self.rib_pos_[rib_pos_index-1]) \n",
    "                self.pos_w_ = np.insert(self.pos_w_,index,self.w_[self.rib_pos_[rib_pos_index-1]])\n",
    "            \n",
    "                \n",
    "            elif rib_pos_index == 0 and self.rib_pos_[rib_pos_index] == self.L+2:\n",
    "                self.pos_jump_ = np.insert(self.pos_jump_,0,0) \n",
    "                self.pos_w_ = np.insert(self.pos_w_,0,self.w_[0])\n",
    "        \n",
    "            move = True\n",
    "    \n",
    " \n",
    "        return t, enter, exit, move\n",
    "\n",
    "\n",
    "\n",
    "    def __checkSteadyState(self,entry_current_old,entry_current_new):\n",
    "        \n",
    "        if abs((entry_current_old - entry_current_new)*100/entry_current_old) < self.rel_tol:\n",
    "            \n",
    "            return True\n",
    "        \n",
    "        else: \n",
    "            \n",
    "            return False\n",
    "        \n",
    "  \n",
    "    def __calcDensity(self,tau):\n",
    "        \n",
    "        for i in self.rib_pos_:\n",
    "            \n",
    "            self.rho_[i-1] += tau\n",
    "        \n",
    "        return\n",
    "    \n",
    "    def getTot_den(self):\n",
    "        \n",
    "        return np.sum(self.rho_)/len(self.rho_)\n",
    "\n",
    "\n"
   ]
  },
  {
   "cell_type": "code",
   "execution_count": 69,
   "metadata": {},
   "outputs": [],
   "source": [
    "sim = Simulation(1, rel_tol = 0.1)\n",
    "sim.ExtractRates('../kvalue_dummy.dat',0.1,0.9)\n",
    "sim.Reach_steady()\n",
    "sim.Run_Sim()\n"
   ]
  },
  {
   "cell_type": "code",
   "execution_count": 70,
   "metadata": {},
   "outputs": [
    {
     "data": {
      "image/png": "[encoded data removed]",
      "text/plain": [
       "<matplotlib.figure.Figure at 0x10bc0ee80>"
      ]
     },
     "metadata": {},
     "output_type": "display_data"
    }
   ],
   "source": [
    "plt.plot(np.arange(0,len(sim.rho_)),sim.rho_)\n",
    "plt.ylim(0,0.12)  \n",
    "plt.show()"
   ]
  },
  {
   "cell_type": "code",
   "execution_count": 72,
   "metadata": {},
   "outputs": [
    {
     "data": {
      "text/plain": [
       "5500.0"
      ]
     },
     "execution_count": 72,
     "metadata": {},
     "output_type": "execute_result"
    }
   ],
   "source": [
    "sim.RUNS/201\n"
   ]
  },
  {
   "cell_type": "code",
   "execution_count": 14,
   "metadata": {},
   "outputs": [
    {
     "data": {
      "text/plain": [
       "array([  7,  19,  46,  62,  82,  96, 120, 179])"
      ]
     },
     "execution_count": 14,
     "metadata": {},
     "output_type": "execute_result"
    }
   ],
   "source": [
    "sim.rib_pos_"
   ]
  },
  {
   "cell_type": "code",
   "execution_count": 15,
   "metadata": {},
   "outputs": [
    {
     "data": {
      "text/plain": [
       "array([  7,  19,  46,  62,  82,  96, 120, 179])"
      ]
     },
     "execution_count": 15,
     "metadata": {},
     "output_type": "execute_result"
    }
   ],
   "source": [
    "sim.pos_jump_"
   ]
  },
  {
   "cell_type": "code",
   "execution_count": 16,
   "metadata": {},
   "outputs": [
    {
     "data": {
      "text/plain": [
       "array([1., 1., 1., 1., 1., 1., 1., 1.])"
      ]
     },
     "execution_count": 16,
     "metadata": {},
     "output_type": "execute_result"
    }
   ],
   "source": [
    "sim.pos_w_"
   ]
  },
  {
   "cell_type": "code",
   "execution_count": null,
   "metadata": {
    "collapsed": true
   },
   "outputs": [],
   "source": []
  }
 ],
 "metadata": {
  "kernelspec": {
   "display_name": "Python 3",
   "language": "python",
   "name": "python3"
  },
  "language_info": {
   "codemirror_mode": {
    "name": "ipython",
    "version": 3
   },
   "file_extension": ".py",
   "mimetype": "text/x-python",
   "name": "python",
   "nbconvert_exporter": "python",
   "pygments_lexer": "ipython3",
   "version": "3.6.1"
  }
 },
 "nbformat": 4,
 "nbformat_minor": 2
}
